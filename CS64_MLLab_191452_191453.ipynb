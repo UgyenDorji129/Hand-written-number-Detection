{
  "nbformat": 4,
  "nbformat_minor": 0,
  "metadata": {
    "colab": {
      "name": "CS64_MLLab_191452_191453.ipynb",
      "provenance": [],
      "collapsed_sections": [],
      "include_colab_link": true
    },
    "kernelspec": {
      "name": "python3",
      "display_name": "Python 3"
    },
    "language_info": {
      "name": "python"
    }
  },
  "cells": [
    {
      "cell_type": "markdown",
      "metadata": {
        "id": "view-in-github",
        "colab_type": "text"
      },
      "source": [
        "<a href=\"https://colab.research.google.com/github/UgyenDorji129/Hand-written-number-Detection/blob/main/CS64_MLLab_191452_191453.ipynb\" target=\"_parent\"><img src=\"https://colab.research.google.com/assets/colab-badge.svg\" alt=\"Open In Colab\"/></a>"
      ]
    },
    {
      "cell_type": "markdown",
      "source": [
        "# **Digit Classification**"
      ],
      "metadata": {
        "id": "syiT0Zyt7Dp2"
      }
    },
    {
      "cell_type": "markdown",
      "source": [
        "**Import the required libary**"
      ],
      "metadata": {
        "id": "ZtBChtZzAOUR"
      }
    },
    {
      "cell_type": "code",
      "execution_count": null,
      "metadata": {
        "id": "ePNsY5lHE4tV"
      },
      "outputs": [],
      "source": [
        "from sklearn import datasets\n",
        "import matplotlib.pyplot as plt \n",
        "import numpy as np\n",
        "import random\n",
        "from sklearn.preprocessing import MinMaxScaler\n",
        "from sklearn.neighbors import KNeighborsClassifier\n",
        "from sklearn import metrics"
      ]
    },
    {
      "cell_type": "markdown",
      "source": [
        "**Loading the dataset that is already present in the sklearn.**"
      ],
      "metadata": {
        "id": "zSlrTkDSAZz3"
      }
    },
    {
      "cell_type": "code",
      "source": [
        "dataSet = datasets.load_digits()\n"
      ],
      "metadata": {
        "id": "mu0rAJDZATjs"
      },
      "execution_count": null,
      "outputs": []
    },
    {
      "cell_type": "code",
      "source": [
        "dataSetAttributes = dir(dataSet)\n",
        "print(\"The attributes that are being stored in the datasets are: \", dataSetAttributes)"
      ],
      "metadata": {
        "colab": {
          "base_uri": "https://localhost:8080/"
        },
        "id": "nDdHkMUiA6Jd",
        "outputId": "87e9e9a0-ca93-415d-c917-b08f03e5efec"
      },
      "execution_count": null,
      "outputs": [
        {
          "output_type": "stream",
          "name": "stdout",
          "text": [
            "The attributes that are being stored in the datasets are:  ['DESCR', 'data', 'feature_names', 'frame', 'images', 'target', 'target_names']\n"
          ]
        }
      ]
    },
    {
      "cell_type": "markdown",
      "source": [
        "**Note:** \"images\" attribute stores the pixel value and \"target\" attributes stores the class label associated"
      ],
      "metadata": {
        "id": "N27s__-XFICe"
      }
    },
    {
      "cell_type": "markdown",
      "source": [
        "**Checking the dataset's data type**"
      ],
      "metadata": {
        "id": "WLE4BAhPFqOh"
      }
    },
    {
      "cell_type": "code",
      "source": [
        "print(\"Data type for the input attributes: \",type(dataSet.images))\n",
        "print(\"Data type for the input attributes: \",type(dataSet.target))"
      ],
      "metadata": {
        "colab": {
          "base_uri": "https://localhost:8080/"
        },
        "id": "eOp_PrVPE_Qi",
        "outputId": "3c04f9ed-e5cb-4c51-8b25-cff3226b8375"
      },
      "execution_count": null,
      "outputs": [
        {
          "output_type": "stream",
          "name": "stdout",
          "text": [
            "Data type for the input attributes:  <class 'numpy.ndarray'>\n",
            "Data type for the input attributes:  <class 'numpy.ndarray'>\n"
          ]
        }
      ]
    },
    {
      "cell_type": "markdown",
      "source": [
        "**Checking the shape of our datasets**"
      ],
      "metadata": {
        "id": "NPgLkCd-GK3o"
      }
    },
    {
      "cell_type": "code",
      "source": [
        "sizeOfImage = dataSet.images.shape\n",
        "sizeOfLabel = dataSet.target.shape\n",
        "\n",
        "print(\"The shape of the image datasets: \", sizeOfImage)\n",
        "print(\"The shape of the target datasets: \", sizeOfLabel)\n"
      ],
      "metadata": {
        "colab": {
          "base_uri": "https://localhost:8080/"
        },
        "id": "yvB5SV7bGV8k",
        "outputId": "02270cfa-28fb-4289-f4b6-ad3ac368fc2d"
      },
      "execution_count": null,
      "outputs": [
        {
          "output_type": "stream",
          "name": "stdout",
          "text": [
            "The shape of the image datasets:  (1797, 8, 8)\n",
            "The shape of the target datasets:  (1797,)\n"
          ]
        }
      ]
    },
    {
      "cell_type": "markdown",
      "source": [
        "**Note:** 1797 is the total sample sizes, and 8 * 8 is the x and y coordinate of the image giving total pixel size of 64."
      ],
      "metadata": {
        "id": "XCtvlTjKG98P"
      }
    },
    {
      "cell_type": "markdown",
      "source": [
        "**Now let us look at how each image is stored.**"
      ],
      "metadata": {
        "id": "_t8vI1EYHmjK"
      }
    },
    {
      "cell_type": "code",
      "source": [
        "print(\"Each image is stored as: \")\n",
        "dataSet.images[0]"
      ],
      "metadata": {
        "colab": {
          "base_uri": "https://localhost:8080/"
        },
        "id": "E6DVQVpfHQO4",
        "outputId": "c19fa327-f5e3-4ded-dc9c-03349a6ac3b4"
      },
      "execution_count": null,
      "outputs": [
        {
          "output_type": "stream",
          "name": "stdout",
          "text": [
            "Each image is stored as: \n"
          ]
        },
        {
          "output_type": "execute_result",
          "data": {
            "text/plain": [
              "array([[ 0.,  0.,  5., 13.,  9.,  1.,  0.,  0.],\n",
              "       [ 0.,  0., 13., 15., 10., 15.,  5.,  0.],\n",
              "       [ 0.,  3., 15.,  2.,  0., 11.,  8.,  0.],\n",
              "       [ 0.,  4., 12.,  0.,  0.,  8.,  8.,  0.],\n",
              "       [ 0.,  5.,  8.,  0.,  0.,  9.,  8.,  0.],\n",
              "       [ 0.,  4., 11.,  0.,  1., 12.,  7.,  0.],\n",
              "       [ 0.,  2., 14.,  5., 10., 12.,  0.,  0.],\n",
              "       [ 0.,  0.,  6., 13., 10.,  0.,  0.,  0.]])"
            ]
          },
          "metadata": {},
          "execution_count": 6
        }
      ]
    },
    {
      "cell_type": "markdown",
      "source": [
        "**To visualize the actual images**"
      ],
      "metadata": {
        "id": "AJ1kArJ6IDbR"
      }
    },
    {
      "cell_type": "code",
      "source": [
        "def showImage(seed):\n",
        "  random.seed(seed)\n",
        "  index = random.randint(0,len(dataSet.images))\n",
        "  plt.figure(figsize=(5,5))\n",
        "  plt.imshow(dataSet.images[index])\n",
        "  plt.xlabel(dataSet.target[index],size=24)\n"
      ],
      "metadata": {
        "id": "OhA09JLnIQOr"
      },
      "execution_count": null,
      "outputs": []
    },
    {
      "cell_type": "code",
      "source": [
        "showImage(2)\n",
        "showImage(3)\n",
        "showImage(5)"
      ],
      "metadata": {
        "colab": {
          "base_uri": "https://localhost:8080/",
          "height": 1000
        },
        "id": "h1WZphlUI34N",
        "outputId": "1406970c-3f8c-42f2-d73b-2ec4afae1fb8"
      },
      "execution_count": null,
      "outputs": [
        {
          "output_type": "display_data",
          "data": {
            "text/plain": [
              "<Figure size 360x360 with 1 Axes>"
            ],
            "image/png": "[encoded data removed]"
          },
          "metadata": {
            "needs_background": "light"
          }
        },
        {
          "output_type": "display_data",
          "data": {
            "text/plain": [
              "<Figure size 360x360 with 1 Axes>"
            ],
            "image/png": "[encoded data removed]"
          },
          "metadata": {
            "needs_background": "light"
          }
        },
        {
          "output_type": "display_data",
          "data": {
            "text/plain": [
              "<Figure size 360x360 with 1 Axes>"
            ],
            "image/png": "[encoded data removed]"
          },
          "metadata": {
            "needs_background": "light"
          }
        }
      ]
    },
    {
      "cell_type": "markdown",
      "source": [
        "**Converting into 1-dimensional array because our images are 2D.**"
      ],
      "metadata": {
        "id": "CVZbtRULKqLy"
      }
    },
    {
      "cell_type": "code",
      "source": [
        "y_dataSet = dataSet.target\n",
        "x_dataSet = dataSet.images.reshape(len(dataSet.images), -1)\n",
        "\n",
        "sizeOfImage = x_dataSet.shape\n",
        "sizeOfLabel = y_dataSet.shape\n",
        "\n",
        "print(\"The shape of the image datasets: \", sizeOfImage)\n",
        "print(\"The shape of the target datasets: \", sizeOfLabel)"
      ],
      "metadata": {
        "colab": {
          "base_uri": "https://localhost:8080/"
        },
        "id": "j5mTGGyqLKQk",
        "outputId": "5521c4eb-1eb1-4cb4-f000-5a1d1523eea8"
      },
      "execution_count": null,
      "outputs": [
        {
          "output_type": "stream",
          "name": "stdout",
          "text": [
            "The shape of the image datasets:  (1797, 64)\n",
            "The shape of the target datasets:  (1797,)\n"
          ]
        }
      ]
    },
    {
      "cell_type": "markdown",
      "source": [
        "**Data  Normalisation**"
      ],
      "metadata": {
        "id": "yYU-UqD3mN3N"
      }
    },
    {
      "cell_type": "code",
      "source": [
        "minmax = MinMaxScaler()\n",
        "x_dataSet = minmax.fit_transform(x_dataSet)\n",
        "print(\"Data sets after performing normalisation: \")\n",
        "print(x_dataSet[0])"
      ],
      "metadata": {
        "colab": {
          "base_uri": "https://localhost:8080/"
        },
        "id": "tDfy0D-lmRDK",
        "outputId": "af1026ed-d144-4277-e189-338755affacd"
      },
      "execution_count": null,
      "outputs": [
        {
          "output_type": "stream",
          "name": "stdout",
          "text": [
            "Data sets after performing normalisation: \n",
            "[0.         0.         0.3125     0.8125     0.5625     0.0625\n",
            " 0.         0.         0.         0.         0.8125     0.9375\n",
            " 0.625      0.9375     0.3125     0.         0.         0.1875\n",
            " 0.9375     0.125      0.         0.6875     0.5        0.\n",
            " 0.         0.26666667 0.75       0.         0.         0.5\n",
            " 0.53333333 0.         0.         0.35714286 0.5        0.\n",
            " 0.         0.5625     0.57142857 0.         0.         0.25\n",
            " 0.6875     0.         0.0625     0.75       0.4375     0.\n",
            " 0.         0.125      0.875      0.3125     0.625      0.75\n",
            " 0.         0.         0.         0.         0.375      0.8125\n",
            " 0.625      0.         0.         0.        ]\n"
          ]
        }
      ]
    },
    {
      "cell_type": "markdown",
      "source": [
        "**Splitting our Data sets into training and testing datasets**"
      ],
      "metadata": {
        "id": "VdtndDnwL38F"
      }
    },
    {
      "cell_type": "code",
      "source": [
        "x_train = x_dataSet[:1000]\n",
        "y_train = y_dataSet[:1000]\n",
        "\n",
        "x_test = x_dataSet[1000:]\n",
        "y_test = y_dataSet[1000:]\n",
        "\n",
        "print(\"The size of train datasets: \",len(x_train))\n",
        "print(\"The size of test datasets: \",len(x_test))"
      ],
      "metadata": {
        "colab": {
          "base_uri": "https://localhost:8080/"
        },
        "id": "9nihlJ1lMD6t",
        "outputId": "8a039ced-0dc8-4b85-d95b-e428ad090316"
      },
      "execution_count": null,
      "outputs": [
        {
          "output_type": "stream",
          "name": "stdout",
          "text": [
            "The size of train datasets:  1000\n",
            "The size of test datasets:  797\n"
          ]
        }
      ]
    },
    {
      "cell_type": "markdown",
      "source": [
        "**Building the KNN classifier model for value of k = 5**"
      ],
      "metadata": {
        "id": "8lr4XUNTehr-"
      }
    },
    {
      "cell_type": "code",
      "source": [
        "model1 = KNeighborsClassifier(n_neighbors=5)\n"
      ],
      "metadata": {
        "id": "FrGbdShipRRE"
      },
      "execution_count": null,
      "outputs": []
    },
    {
      "cell_type": "markdown",
      "source": [
        "**Training our model1 using train dataset**"
      ],
      "metadata": {
        "id": "huSQ0-PJfCwG"
      }
    },
    {
      "cell_type": "code",
      "source": [
        "model1.fit(x_train, y_train)"
      ],
      "metadata": {
        "colab": {
          "base_uri": "https://localhost:8080/"
        },
        "id": "crzGIVw7fImk",
        "outputId": "b2af4ecd-cbb6-46de-c21b-1a6e37513a3d"
      },
      "execution_count": null,
      "outputs": [
        {
          "output_type": "execute_result",
          "data": {
            "text/plain": [
              "KNeighborsClassifier()"
            ]
          },
          "metadata": {},
          "execution_count": 13
        }
      ]
    },
    {
      "cell_type": "markdown",
      "source": [
        "**Testing of model using test dataset**"
      ],
      "metadata": {
        "id": "dAb088pa5coL"
      }
    },
    {
      "cell_type": "code",
      "source": [
        "y_predicted = model1.predict(x_test)\n",
        "y_predicted == y_test"
      ],
      "metadata": {
        "colab": {
          "base_uri": "https://localhost:8080/"
        },
        "id": "VLTk2qTk5iGH",
        "outputId": "44645ba1-e78f-4570-9304-711fb42d0f8a"
      },
      "execution_count": null,
      "outputs": [
        {
          "output_type": "execute_result",
          "data": {
            "text/plain": [
              "array([ True,  True,  True,  True,  True,  True,  True,  True,  True,\n",
              "        True,  True,  True,  True,  True,  True,  True,  True,  True,\n",
              "        True,  True,  True,  True, False,  True,  True,  True,  True,\n",
              "        True,  True,  True,  True,  True,  True,  True,  True,  True,\n",
              "        True,  True, False,  True,  True,  True,  True,  True,  True,\n",
              "        True,  True,  True,  True,  True,  True,  True,  True,  True,\n",
              "        True,  True,  True,  True, False,  True,  True,  True,  True,\n",
              "        True,  True,  True,  True,  True,  True,  True,  True,  True,\n",
              "        True,  True,  True,  True,  True,  True,  True,  True,  True,\n",
              "        True,  True,  True,  True,  True,  True,  True,  True,  True,\n",
              "        True,  True,  True,  True,  True, False,  True,  True,  True,\n",
              "        True,  True,  True,  True,  True,  True,  True,  True,  True,\n",
              "        True,  True,  True,  True,  True,  True,  True,  True,  True,\n",
              "        True, False,  True,  True,  True,  True,  True,  True,  True,\n",
              "        True,  True,  True,  True,  True,  True,  True,  True,  True,\n",
              "        True,  True,  True,  True,  True,  True,  True,  True,  True,\n",
              "        True,  True, False,  True,  True, False,  True,  True, False,\n",
              "        True,  True,  True,  True,  True,  True,  True,  True,  True,\n",
              "        True,  True,  True,  True,  True,  True,  True,  True,  True,\n",
              "        True,  True,  True,  True,  True,  True,  True,  True,  True,\n",
              "        True,  True,  True,  True,  True,  True,  True,  True,  True,\n",
              "        True,  True,  True,  True,  True,  True,  True,  True,  True,\n",
              "        True,  True,  True,  True, False,  True,  True,  True,  True,\n",
              "        True,  True,  True,  True,  True,  True,  True,  True,  True,\n",
              "        True,  True,  True,  True,  True,  True,  True,  True,  True,\n",
              "        True,  True,  True,  True,  True,  True,  True,  True,  True,\n",
              "        True,  True,  True,  True,  True,  True,  True,  True,  True,\n",
              "        True,  True,  True,  True,  True,  True,  True,  True,  True,\n",
              "        True,  True,  True,  True,  True,  True,  True,  True,  True,\n",
              "        True,  True,  True, False,  True,  True,  True,  True,  True,\n",
              "        True,  True,  True,  True,  True,  True,  True,  True,  True,\n",
              "       False,  True,  True,  True,  True,  True,  True,  True,  True,\n",
              "        True,  True,  True,  True,  True,  True,  True,  True,  True,\n",
              "        True,  True,  True,  True,  True,  True,  True,  True,  True,\n",
              "        True,  True,  True,  True,  True,  True,  True,  True,  True,\n",
              "        True,  True,  True,  True,  True,  True,  True,  True,  True,\n",
              "        True,  True,  True,  True,  True,  True,  True,  True,  True,\n",
              "        True,  True,  True,  True, False,  True,  True,  True, False,\n",
              "        True,  True,  True,  True,  True,  True,  True,  True,  True,\n",
              "        True,  True,  True,  True,  True,  True,  True,  True,  True,\n",
              "        True, False,  True,  True, False,  True,  True,  True,  True,\n",
              "        True,  True,  True,  True,  True,  True,  True,  True,  True,\n",
              "        True,  True,  True,  True,  True,  True,  True,  True,  True,\n",
              "        True,  True,  True,  True,  True,  True,  True,  True,  True,\n",
              "        True,  True,  True,  True,  True,  True,  True,  True,  True,\n",
              "        True,  True,  True,  True, False,  True,  True,  True,  True,\n",
              "        True,  True,  True,  True,  True,  True,  True,  True,  True,\n",
              "        True,  True,  True,  True,  True,  True,  True,  True,  True,\n",
              "        True,  True,  True,  True,  True,  True,  True,  True,  True,\n",
              "        True,  True,  True,  True,  True,  True,  True,  True,  True,\n",
              "        True,  True,  True,  True,  True,  True,  True,  True,  True,\n",
              "        True,  True,  True,  True,  True,  True,  True,  True,  True,\n",
              "       False,  True,  True,  True,  True,  True,  True,  True,  True,\n",
              "        True,  True,  True,  True,  True,  True,  True,  True,  True,\n",
              "        True,  True,  True,  True,  True,  True,  True,  True,  True,\n",
              "       False,  True,  True,  True,  True,  True,  True,  True,  True,\n",
              "        True,  True,  True,  True,  True,  True,  True,  True,  True,\n",
              "        True,  True,  True,  True,  True,  True,  True,  True,  True,\n",
              "        True,  True,  True,  True,  True,  True,  True,  True,  True,\n",
              "        True,  True,  True,  True,  True,  True,  True,  True,  True,\n",
              "        True,  True,  True,  True,  True,  True,  True,  True,  True,\n",
              "        True,  True,  True,  True, False,  True,  True,  True,  True,\n",
              "        True,  True,  True,  True,  True,  True,  True,  True,  True,\n",
              "        True,  True,  True,  True,  True,  True,  True,  True,  True,\n",
              "        True,  True,  True,  True,  True,  True, False,  True,  True,\n",
              "        True,  True,  True,  True,  True,  True,  True,  True, False,\n",
              "        True,  True,  True,  True,  True,  True,  True,  True,  True,\n",
              "       False,  True, False, False,  True,  True,  True,  True, False,\n",
              "        True,  True,  True,  True,  True,  True,  True,  True,  True,\n",
              "        True,  True,  True,  True,  True,  True,  True,  True,  True,\n",
              "        True,  True,  True,  True,  True,  True,  True,  True,  True,\n",
              "        True,  True,  True,  True,  True,  True,  True,  True,  True,\n",
              "        True,  True,  True,  True,  True,  True,  True,  True,  True,\n",
              "        True, False,  True, False,  True, False,  True,  True,  True,\n",
              "       False,  True,  True,  True,  True,  True,  True,  True,  True,\n",
              "        True,  True,  True,  True,  True,  True,  True,  True,  True,\n",
              "        True,  True,  True,  True,  True,  True,  True,  True,  True,\n",
              "        True,  True,  True,  True,  True,  True,  True,  True,  True,\n",
              "        True,  True,  True,  True,  True,  True,  True,  True,  True,\n",
              "        True, False,  True,  True,  True,  True,  True,  True,  True,\n",
              "        True,  True,  True,  True,  True,  True,  True, False,  True,\n",
              "        True,  True,  True,  True,  True,  True,  True,  True,  True,\n",
              "        True,  True,  True,  True,  True,  True,  True,  True,  True,\n",
              "        True,  True,  True,  True,  True,  True,  True,  True,  True,\n",
              "        True,  True,  True,  True,  True,  True,  True,  True,  True,\n",
              "       False,  True,  True,  True,  True,  True,  True,  True,  True,\n",
              "        True,  True,  True,  True,  True,  True,  True,  True,  True,\n",
              "        True,  True,  True,  True,  True,  True,  True, False,  True,\n",
              "        True,  True,  True,  True,  True])"
            ]
          },
          "metadata": {},
          "execution_count": 14
        }
      ]
    },
    {
      "cell_type": "markdown",
      "source": [
        "**Defining the function that classifies the image**"
      ],
      "metadata": {
        "id": "J0_Zo3z2fX91"
      }
    },
    {
      "cell_type": "code",
      "source": [
        "def predict(index,model):\n",
        "  y_pred = model.predict(x_test)\n",
        "  plt.figure(figsize=(5,5))\n",
        "  plt.imshow(np.reshape(x_test[index],(8,8)))\n",
        "  plt.xlabel(y_pred[index],size=24)\n",
        "  if(y_pred[index] == y_test[index]):\n",
        "    plt.title(\"Image is classified correctly!\")\n",
        "  else:\n",
        "    plt.title(\"Image is classified Incorrectly!\")\n",
        "\n",
        "\n"
      ],
      "metadata": {
        "id": "mSNfsIc4fcew"
      },
      "execution_count": null,
      "outputs": []
    },
    {
      "cell_type": "markdown",
      "source": [
        "**Classification of various images  from testing dataset**"
      ],
      "metadata": {
        "id": "dpNsN0poyuvJ"
      }
    },
    {
      "cell_type": "code",
      "source": [
        "predict(5,model1)\n"
      ],
      "metadata": {
        "colab": {
          "base_uri": "https://localhost:8080/",
          "height": 364
        },
        "id": "DOMjS-FZy2_j",
        "outputId": "4d3ae13b-5008-494c-b9f9-dfc82bc95be5"
      },
      "execution_count": null,
      "outputs": [
        {
          "output_type": "display_data",
          "data": {
            "text/plain": [
              "<Figure size 360x360 with 1 Axes>"
            ],
            "image/png": "[encoded data removed]"
          },
          "metadata": {
            "needs_background": "light"
          }
        }
      ]
    },
    {
      "cell_type": "code",
      "source": [
        "predict(500,model1)"
      ],
      "metadata": {
        "colab": {
          "base_uri": "https://localhost:8080/",
          "height": 364
        },
        "id": "1DIovBJm45EB",
        "outputId": "65539bbd-23a7-4286-fd06-95b9a54af31d"
      },
      "execution_count": null,
      "outputs": [
        {
          "output_type": "display_data",
          "data": {
            "text/plain": [
              "<Figure size 360x360 with 1 Axes>"
            ],
            "image/png": "[encoded data removed]"
          },
          "metadata": {
            "needs_background": "light"
          }
        }
      ]
    },
    {
      "cell_type": "code",
      "source": [
        "predict(240,model1)"
      ],
      "metadata": {
        "colab": {
          "base_uri": "https://localhost:8080/",
          "height": 364
        },
        "id": "wZz4-Hxe486T",
        "outputId": "8d7e0329-f64b-4f1b-e44d-49c331db6198"
      },
      "execution_count": null,
      "outputs": [
        {
          "output_type": "display_data",
          "data": {
            "text/plain": [
              "<Figure size 360x360 with 1 Axes>"
            ],
            "image/png": "[encoded data removed]"
          },
          "metadata": {
            "needs_background": "light"
          }
        }
      ]
    },
    {
      "cell_type": "markdown",
      "source": [
        "**Calculating the  accuracy of the model**"
      ],
      "metadata": {
        "id": "7tCd36FU5Br7"
      }
    },
    {
      "cell_type": "code",
      "source": [
        "accuracy = metrics.accuracy_score(y_test, y_predicted)\n",
        "print(\"Accuracy: \",accuracy * 100,\"%\")"
      ],
      "metadata": {
        "colab": {
          "base_uri": "https://localhost:8080/"
        },
        "id": "bUGAeG1-5HZ1",
        "outputId": "a1be9b42-22b1-458b-9733-9f0e6650b0b4"
      },
      "execution_count": null,
      "outputs": [
        {
          "output_type": "stream",
          "name": "stdout",
          "text": [
            "Accuracy:  95.8594730238394 %\n"
          ]
        }
      ]
    },
    {
      "cell_type": "markdown",
      "source": [
        "**Note:** We can try with  different values of k"
      ],
      "metadata": {
        "id": "6ZIOlmIv6ZXr"
      }
    },
    {
      "cell_type": "markdown",
      "source": [
        "**Building KNN classifier with k = 9**"
      ],
      "metadata": {
        "id": "1aCYaiqP67XX"
      }
    },
    {
      "cell_type": "code",
      "source": [
        "model2 = KNeighborsClassifier(n_neighbors=9)"
      ],
      "metadata": {
        "id": "Gom4Rc367E7u"
      },
      "execution_count": null,
      "outputs": []
    },
    {
      "cell_type": "markdown",
      "source": [
        "**Training our model using training dataset**"
      ],
      "metadata": {
        "id": "9tfL3dmW7HUU"
      }
    },
    {
      "cell_type": "code",
      "source": [
        "model2.fit(x_train, y_train)"
      ],
      "metadata": {
        "colab": {
          "base_uri": "https://localhost:8080/"
        },
        "id": "Wh-Q0M3R7U1Q",
        "outputId": "90446043-8c2e-42e9-e6df-61d4385e0be7"
      },
      "execution_count": null,
      "outputs": [
        {
          "output_type": "execute_result",
          "data": {
            "text/plain": [
              "KNeighborsClassifier(n_neighbors=9)"
            ]
          },
          "metadata": {},
          "execution_count": 21
        }
      ]
    },
    {
      "cell_type": "markdown",
      "source": [
        "**Testing our model  using test datasets**"
      ],
      "metadata": {
        "id": "C2kF8MEq7dHg"
      }
    },
    {
      "cell_type": "code",
      "source": [
        "y_predicted = model2.predict(x_test)"
      ],
      "metadata": {
        "id": "7hkRdJ187Wbs"
      },
      "execution_count": null,
      "outputs": []
    },
    {
      "cell_type": "markdown",
      "source": [
        "**Calling our user defined function to visualise our model2**"
      ],
      "metadata": {
        "id": "E1z1aZEZ757J"
      }
    },
    {
      "cell_type": "code",
      "source": [
        "predict(5,model2)"
      ],
      "metadata": {
        "colab": {
          "base_uri": "https://localhost:8080/",
          "height": 364
        },
        "id": "AX-rGVd18CbA",
        "outputId": "032b8150-3baf-47f8-ab7e-06a64226a907"
      },
      "execution_count": null,
      "outputs": [
        {
          "output_type": "display_data",
          "data": {
            "text/plain": [
              "<Figure size 360x360 with 1 Axes>"
            ],
            "image/png": "[encoded data removed]"
          },
          "metadata": {
            "needs_background": "light"
          }
        }
      ]
    },
    {
      "cell_type": "code",
      "source": [
        "predict(500,model2)"
      ],
      "metadata": {
        "colab": {
          "base_uri": "https://localhost:8080/",
          "height": 364
        },
        "id": "3eRC-fGx8J8R",
        "outputId": "3414b6d6-0779-4913-f9af-50e56b6e4099"
      },
      "execution_count": null,
      "outputs": [
        {
          "output_type": "display_data",
          "data": {
            "text/plain": [
              "<Figure size 360x360 with 1 Axes>"
            ],
            "image/png": "[encoded data removed]"
          },
          "metadata": {
            "needs_background": "light"
          }
        }
      ]
    },
    {
      "cell_type": "code",
      "source": [
        "predict(240,model2)"
      ],
      "metadata": {
        "colab": {
          "base_uri": "https://localhost:8080/",
          "height": 364
        },
        "id": "NHiSRN008OT5",
        "outputId": "695a9027-96a6-4d5d-ecda-95f78a1117ba"
      },
      "execution_count": null,
      "outputs": [
        {
          "output_type": "display_data",
          "data": {
            "text/plain": [
              "<Figure size 360x360 with 1 Axes>"
            ],
            "image/png": "[encoded data removed]"
          },
          "metadata": {
            "needs_background": "light"
          }
        }
      ]
    },
    {
      "cell_type": "markdown",
      "source": [
        "**Calculating the accuracy of the model2**"
      ],
      "metadata": {
        "id": "qVj9aC2a8RZV"
      }
    },
    {
      "cell_type": "code",
      "source": [
        "accuracy = metrics.accuracy_score(y_test, y_predicted)\n",
        "print(\"Accuracy: \",accuracy * 100,\"%\")"
      ],
      "metadata": {
        "colab": {
          "base_uri": "https://localhost:8080/"
        },
        "id": "jjGb811u8aG6",
        "outputId": "a79d6cc5-f14b-4a17-c959-b62d1259d71e"
      },
      "execution_count": null,
      "outputs": [
        {
          "output_type": "stream",
          "name": "stdout",
          "text": [
            "Accuracy:  95.23212045169385 %\n"
          ]
        }
      ]
    },
    {
      "cell_type": "markdown",
      "source": [
        "**Note:** The accuracy of our model2 has slightly decreased hence we will try to decrease the value of k"
      ],
      "metadata": {
        "id": "u-il8JVC8ihe"
      }
    },
    {
      "cell_type": "markdown",
      "source": [
        "**Buliding another KNN classifier with K = 3**"
      ],
      "metadata": {
        "id": "llU62rwx86r0"
      }
    },
    {
      "cell_type": "code",
      "source": [
        "model3 = KNeighborsClassifier(n_neighbors=3)"
      ],
      "metadata": {
        "id": "tiuhHCXF9BZ8"
      },
      "execution_count": null,
      "outputs": []
    },
    {
      "cell_type": "markdown",
      "source": [
        "**Training the model with testing datasets**"
      ],
      "metadata": {
        "id": "TqgPa5Sq9GB6"
      }
    },
    {
      "cell_type": "code",
      "source": [
        "model3.fit(x_train, y_train)"
      ],
      "metadata": {
        "colab": {
          "base_uri": "https://localhost:8080/"
        },
        "id": "RVtLEoU89MY1",
        "outputId": "eab01088-7b51-4801-ce7a-4ee5029f8d1b"
      },
      "execution_count": null,
      "outputs": [
        {
          "output_type": "execute_result",
          "data": {
            "text/plain": [
              "KNeighborsClassifier(n_neighbors=3)"
            ]
          },
          "metadata": {},
          "execution_count": 28
        }
      ]
    },
    {
      "cell_type": "markdown",
      "source": [
        "**Testing model 3 using the testing dataset**"
      ],
      "metadata": {
        "id": "QzC80DKm9UQn"
      }
    },
    {
      "cell_type": "code",
      "source": [
        "y_predicted = model3.predict(x_test)"
      ],
      "metadata": {
        "id": "Jg2AqTFZ9ccG"
      },
      "execution_count": null,
      "outputs": []
    },
    {
      "cell_type": "markdown",
      "source": [
        "**Calling our user defined function to understand how model 3 is predicting**"
      ],
      "metadata": {
        "id": "F2p-ZDig9hOQ"
      }
    },
    {
      "cell_type": "code",
      "source": [
        "predict(5,model3)"
      ],
      "metadata": {
        "colab": {
          "base_uri": "https://localhost:8080/",
          "height": 364
        },
        "id": "uKIl4bCH9ovH",
        "outputId": "ba104add-8a14-4e67-cd2f-fd8623d90f8c"
      },
      "execution_count": null,
      "outputs": [
        {
          "output_type": "display_data",
          "data": {
            "text/plain": [
              "<Figure size 360x360 with 1 Axes>"
            ],
            "image/png": "[encoded data removed]"
          },
          "metadata": {
            "needs_background": "light"
          }
        }
      ]
    },
    {
      "cell_type": "code",
      "source": [
        "predict(500,model3)"
      ],
      "metadata": {
        "colab": {
          "base_uri": "https://localhost:8080/",
          "height": 364
        },
        "id": "UK-5__ER9uq0",
        "outputId": "a8c6c986-c0e3-493d-cb15-b3aa5b1f66ff"
      },
      "execution_count": null,
      "outputs": [
        {
          "output_type": "display_data",
          "data": {
            "text/plain": [
              "<Figure size 360x360 with 1 Axes>"
            ],
            "image/png": "[encoded data removed]"
          },
          "metadata": {
            "needs_background": "light"
          }
        }
      ]
    },
    {
      "cell_type": "code",
      "source": [
        "predict(240,model3)"
      ],
      "metadata": {
        "colab": {
          "base_uri": "https://localhost:8080/",
          "height": 364
        },
        "id": "tRpZTve19xEc",
        "outputId": "56cc21b7-fcab-4380-902e-e214acfeaa05"
      },
      "execution_count": null,
      "outputs": [
        {
          "output_type": "display_data",
          "data": {
            "text/plain": [
              "<Figure size 360x360 with 1 Axes>"
            ],
            "image/png": "[encoded data removed]"
          },
          "metadata": {
            "needs_background": "light"
          }
        }
      ]
    },
    {
      "cell_type": "markdown",
      "source": [
        "**Calculating the accuracy of model 3**"
      ],
      "metadata": {
        "id": "X6eAv-l89z3O"
      }
    },
    {
      "cell_type": "code",
      "source": [
        "print(x_test[0])"
      ],
      "metadata": {
        "id": "96AnSzWQhhCh",
        "outputId": "19505f22-3db2-485e-a58e-8b8e6fd35f08",
        "colab": {
          "base_uri": "https://localhost:8080/"
        }
      },
      "execution_count": null,
      "outputs": [
        {
          "output_type": "stream",
          "name": "stdout",
          "text": [
            "[0.         0.         0.0625     0.875      0.125      0.\n",
            " 0.         0.         0.         0.         0.         1.\n",
            " 0.3125     0.         0.         0.         0.         0.\n",
            " 0.         0.875      0.625      0.         0.         0.\n",
            " 0.         0.         0.         0.6875     1.         0.0625\n",
            " 0.         0.         0.         0.         0.         0.1875\n",
            " 0.875      0.375      0.         0.         0.         0.\n",
            " 0.         0.         0.5        0.75       0.         0.\n",
            " 0.         0.         0.625      0.875      0.8125     1.\n",
            " 0.5        0.23076923 0.         0.         0.125      0.6875\n",
            " 0.75       0.9375     1.         0.9375    ]\n"
          ]
        }
      ]
    },
    {
      "cell_type": "code",
      "source": [
        "accuracy = metrics.accuracy_score(y_test, y_predicted)\n",
        "print(\"Accuracy: \",accuracy * 100,\"%\")"
      ],
      "metadata": {
        "colab": {
          "base_uri": "https://localhost:8080/"
        },
        "id": "bZ9Kjpm193nt",
        "outputId": "f76e2ffe-027b-4a7d-f7a9-c615d0e4bdb0"
      },
      "execution_count": null,
      "outputs": [
        {
          "output_type": "stream",
          "name": "stdout",
          "text": [
            "Accuracy:  96.23588456712673 %\n"
          ]
        }
      ]
    },
    {
      "cell_type": "markdown",
      "source": [
        "**Note:** By comparing the three model we can conclude that our model best performed when the hyper-parameter value K = 3"
      ],
      "metadata": {
        "id": "lqlgT57P99CQ"
      }
    },
    {
      "cell_type": "markdown",
      "source": [
        "**Saving our models**"
      ],
      "metadata": {
        "id": "qCW4bIfFdaX3"
      }
    },
    {
      "cell_type": "code",
      "source": [
        "pip install sklite"
      ],
      "metadata": {
        "colab": {
          "base_uri": "https://localhost:8080/"
        },
        "id": "8a1n5021dq4a",
        "outputId": "9a8becf3-8259-49d3-9a5a-76e33c1729f8"
      },
      "execution_count": null,
      "outputs": [
        {
          "output_type": "stream",
          "name": "stdout",
          "text": [
            "Collecting sklite\n",
            "  Downloading sklite-0.0.2-py3-none-any.whl (11 kB)\n",
            "Installing collected packages: sklite\n",
            "Successfully installed sklite-0.0.2\n"
          ]
        }
      ]
    },
    {
      "cell_type": "code",
      "source": [
        "from  sklite import LazyExport\n",
        "lazy = LazyExport(model3)\n",
        "lazy.save(\"model.json\")"
      ],
      "metadata": {
        "colab": {
          "base_uri": "https://localhost:8080/"
        },
        "id": "_o4cWg8ddZc5",
        "outputId": "5b82a4db-9d01-408f-9f1d-4131f9026211"
      },
      "execution_count": null,
      "outputs": [
        {
          "output_type": "stream",
          "name": "stderr",
          "text": [
            "/usr/local/lib/python3.7/dist-packages/sklite/lib/abstract.py:85: UserWarning: /root/.sklite has been created.\n",
            "  warnings.warn(wrn)\n"
          ]
        }
      ]
    }
  ]
}